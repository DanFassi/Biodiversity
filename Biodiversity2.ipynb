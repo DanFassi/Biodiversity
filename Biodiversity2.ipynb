{
 "cells": [
  {
   "cell_type": "markdown",
   "id": "03e62636",
   "metadata": {},
   "source": [
    "# Biodiversity\n",
    "\n",
    "\n",
    "\n",
    "\n",
    "This project aim to analyse the data provided by the US `National Parks Service` about endangered species in differents parks. The goal is to determinate if there are any patterns or themes to the type of species that become endangered."
   ]
  },
  {
   "cell_type": "markdown",
   "id": "17cbf3e1",
   "metadata": {},
   "source": [
    "## 1. Data Overview\n",
    "\n",
    "Before any manipulation, we first import the python modules we will need for this analysis"
   ]
  },
  {
   "cell_type": "code",
   "execution_count": 1,
   "id": "b41b69b9",
   "metadata": {},
   "outputs": [],
   "source": [
    "import pandas as pd\n",
    "import numpy as np\n",
    "import matplotlib.pyplot as plt\n",
    "import seaborn as sns\n",
    "%matplotlib inline"
   ]
  },
  {
   "cell_type": "markdown",
   "id": "73094299",
   "metadata": {},
   "source": [
    "Two files are provided for this analysis:\n",
    "   - species_info.csv\n",
    "   - observation.csv\n",
    "   \n",
    "### Let's begin with the file `species`"
   ]
  },
  {
   "cell_type": "code",
   "execution_count": 2,
   "id": "a194d5e2",
   "metadata": {},
   "outputs": [
    {
     "data": {
      "text/html": [
       "<div>\n",
       "<style scoped>\n",
       "    .dataframe tbody tr th:only-of-type {\n",
       "        vertical-align: middle;\n",
       "    }\n",
       "\n",
       "    .dataframe tbody tr th {\n",
       "        vertical-align: top;\n",
       "    }\n",
       "\n",
       "    .dataframe thead th {\n",
       "        text-align: right;\n",
       "    }\n",
       "</style>\n",
       "<table border=\"1\" class=\"dataframe\">\n",
       "  <thead>\n",
       "    <tr style=\"text-align: right;\">\n",
       "      <th></th>\n",
       "      <th>category</th>\n",
       "      <th>scientific_name</th>\n",
       "      <th>common_names</th>\n",
       "      <th>conservation_status</th>\n",
       "    </tr>\n",
       "  </thead>\n",
       "  <tbody>\n",
       "    <tr>\n",
       "      <th>0</th>\n",
       "      <td>Mammal</td>\n",
       "      <td>Clethrionomys gapperi gapperi</td>\n",
       "      <td>Gapper's Red-Backed Vole</td>\n",
       "      <td>NaN</td>\n",
       "    </tr>\n",
       "    <tr>\n",
       "      <th>1</th>\n",
       "      <td>Mammal</td>\n",
       "      <td>Bos bison</td>\n",
       "      <td>American Bison, Bison</td>\n",
       "      <td>NaN</td>\n",
       "    </tr>\n",
       "    <tr>\n",
       "      <th>2</th>\n",
       "      <td>Mammal</td>\n",
       "      <td>Bos taurus</td>\n",
       "      <td>Aurochs, Aurochs, Domestic Cattle (Feral), Dom...</td>\n",
       "      <td>NaN</td>\n",
       "    </tr>\n",
       "    <tr>\n",
       "      <th>3</th>\n",
       "      <td>Mammal</td>\n",
       "      <td>Ovis aries</td>\n",
       "      <td>Domestic Sheep, Mouflon, Red Sheep, Sheep (Feral)</td>\n",
       "      <td>NaN</td>\n",
       "    </tr>\n",
       "    <tr>\n",
       "      <th>4</th>\n",
       "      <td>Mammal</td>\n",
       "      <td>Cervus elaphus</td>\n",
       "      <td>Wapiti Or Elk</td>\n",
       "      <td>NaN</td>\n",
       "    </tr>\n",
       "  </tbody>\n",
       "</table>\n",
       "</div>"
      ],
      "text/plain": [
       "  category                scientific_name  \\\n",
       "0   Mammal  Clethrionomys gapperi gapperi   \n",
       "1   Mammal                      Bos bison   \n",
       "2   Mammal                     Bos taurus   \n",
       "3   Mammal                     Ovis aries   \n",
       "4   Mammal                 Cervus elaphus   \n",
       "\n",
       "                                        common_names conservation_status  \n",
       "0                           Gapper's Red-Backed Vole                 NaN  \n",
       "1                              American Bison, Bison                 NaN  \n",
       "2  Aurochs, Aurochs, Domestic Cattle (Feral), Dom...                 NaN  \n",
       "3  Domestic Sheep, Mouflon, Red Sheep, Sheep (Feral)                 NaN  \n",
       "4                                      Wapiti Or Elk                 NaN  "
      ]
     },
     "metadata": {},
     "output_type": "display_data"
    },
    {
     "name": "stdout",
     "output_type": "stream",
     "text": [
      "\n",
      "Shape of the dataset:\n",
      "(5824, 4)\n"
     ]
    }
   ],
   "source": [
    "species = pd.read_csv(\"species_info.csv\")\n",
    "display(species.head(5))\n",
    "\n",
    "print(\"\\nShape of the dataset:\" )\n",
    "print(species.shape)"
   ]
  },
  {
   "cell_type": "markdown",
   "id": "2831cba2",
   "metadata": {},
   "source": [
    "This file contains 4 columns:\n",
    "- `category`\n",
    "- `scientific_name`\n",
    "- `common_names`, where we can see that several names can be associated to one specie\n",
    "- `conservations_status`\n",
    "\n",
    "and 5824 lines"
   ]
  },
  {
   "cell_type": "code",
   "execution_count": 3,
   "id": "e0f1506f",
   "metadata": {},
   "outputs": [
    {
     "name": "stdout",
     "output_type": "stream",
     "text": [
      "Number of unique values for each columns \n",
      "\n",
      "category : 7\n",
      "scientific_name : 5541\n",
      "common_names : 5504\n",
      "conservation_status : 4\n"
     ]
    }
   ],
   "source": [
    "print(\"Number of unique values for each columns \\n\")\n",
    "for name in species.columns:\n",
    "    print(name,\":\",species[name].nunique())"
   ]
  },
  {
   "cell_type": "markdown",
   "id": "3a8cbcb8",
   "metadata": {},
   "source": [
    "We observe that there is 7 different categories of species, and 4 type of conservation status. let's display them"
   ]
  },
  {
   "cell_type": "code",
   "execution_count": 4,
   "id": "a5e59029",
   "metadata": {},
   "outputs": [
    {
     "name": "stdout",
     "output_type": "stream",
     "text": [
      "Values of category :\n",
      "['Mammal' 'Bird' 'Reptile' 'Amphibian' 'Fish' 'Vascular Plant'\n",
      " 'Nonvascular Plant']\n",
      "\n",
      "Values of conservation status :\n",
      "[nan 'Species of Concern' 'Endangered' 'Threatened' 'In Recovery']\n"
     ]
    }
   ],
   "source": [
    "print(\"Values of category :\")\n",
    "print(species[\"category\"].unique())\n",
    "print(\"\\nValues of conservation status :\")\n",
    "print(species[\"conservation_status\"].unique())"
   ]
  },
  {
   "cell_type": "markdown",
   "id": "8be03238",
   "metadata": {},
   "source": [
    "One of the value in conservation status is Nan. What does that mean and is there other values nan in this dataset?"
   ]
  },
  {
   "cell_type": "code",
   "execution_count": 5,
   "id": "ba5f426a",
   "metadata": {},
   "outputs": [
    {
     "name": "stdout",
     "output_type": "stream",
     "text": [
      "Total of NA per columns:\n",
      "category                  0\n",
      "scientific_name           0\n",
      "common_names              0\n",
      "conservation_status    5633\n",
      "dtype: int64\n"
     ]
    }
   ],
   "source": [
    "print(\"Total of NA per columns:\")\n",
    "print(species.isna().sum())"
   ]
  },
  {
   "cell_type": "markdown",
   "id": "113219c2",
   "metadata": {},
   "source": [
    "Only the columns conservation_status contain NAN values, and they represent the majority of the values. It is reasonable to assume that these NAN are refering to species thare are non endangered\n",
    "\n",
    "let's rename the NAN value to more explicit label"
   ]
  },
  {
   "cell_type": "code",
   "execution_count": 6,
   "id": "05f92b5a",
   "metadata": {},
   "outputs": [],
   "source": [
    "species[\"conservation_status\"] = species[\"conservation_status\"].fillna(\"ok\")"
   ]
  },
  {
   "cell_type": "markdown",
   "id": "c3e12ebe",
   "metadata": {},
   "source": [
    "Before going further , we need to be sure that there is no duplicated line on the dataset"
   ]
  },
  {
   "cell_type": "code",
   "execution_count": 7,
   "id": "0cde19ad",
   "metadata": {},
   "outputs": [
    {
     "name": "stdout",
     "output_type": "stream",
     "text": [
      "Number of duplicated rows:\n",
      "0\n"
     ]
    }
   ],
   "source": [
    "print(\"Number of duplicated rows:\")\n",
    "print(species.duplicated().sum())"
   ]
  },
  {
   "cell_type": "markdown",
   "id": "5359f503",
   "metadata": {},
   "source": [
    "We noticed earlier there is 5541 unique value of scientific_name but the dataset is 5824 line long. We are assuming that each scientific name is unique to a specie and there couldn't be another specie having the same name. Since there is not duplicated lines on this dataset, let's investigate the reason for this discrepancy\n",
    "\n",
    "We are going to isolate a case where there the scientific_name is not unique and display the values that are associated with it"
   ]
  },
  {
   "cell_type": "code",
   "execution_count": 8,
   "id": "a1b1f2cf",
   "metadata": {},
   "outputs": [
    {
     "data": {
      "text/plain": [
       "Castor canadensis       3\n",
       "Canis lupus             3\n",
       "Hypochaeris radicata    3\n",
       "Columba livia           3\n",
       "Puma concolor           3\n",
       "Name: scientific_name, dtype: int64"
      ]
     },
     "execution_count": 8,
     "metadata": {},
     "output_type": "execute_result"
    }
   ],
   "source": [
    "species[\"scientific_name\"].value_counts().head(5)"
   ]
  },
  {
   "cell_type": "code",
   "execution_count": 9,
   "id": "6e4a5625",
   "metadata": {},
   "outputs": [
    {
     "data": {
      "text/html": [
       "<div>\n",
       "<style scoped>\n",
       "    .dataframe tbody tr th:only-of-type {\n",
       "        vertical-align: middle;\n",
       "    }\n",
       "\n",
       "    .dataframe tbody tr th {\n",
       "        vertical-align: top;\n",
       "    }\n",
       "\n",
       "    .dataframe thead th {\n",
       "        text-align: right;\n",
       "    }\n",
       "</style>\n",
       "<table border=\"1\" class=\"dataframe\">\n",
       "  <thead>\n",
       "    <tr style=\"text-align: right;\">\n",
       "      <th></th>\n",
       "      <th>category</th>\n",
       "      <th>scientific_name</th>\n",
       "      <th>common_names</th>\n",
       "      <th>conservation_status</th>\n",
       "    </tr>\n",
       "  </thead>\n",
       "  <tbody>\n",
       "    <tr>\n",
       "      <th>49</th>\n",
       "      <td>Mammal</td>\n",
       "      <td>Castor canadensis</td>\n",
       "      <td>American Beaver, Beaver</td>\n",
       "      <td>ok</td>\n",
       "    </tr>\n",
       "    <tr>\n",
       "      <th>3050</th>\n",
       "      <td>Mammal</td>\n",
       "      <td>Castor canadensis</td>\n",
       "      <td>American Beaver</td>\n",
       "      <td>ok</td>\n",
       "    </tr>\n",
       "    <tr>\n",
       "      <th>4475</th>\n",
       "      <td>Mammal</td>\n",
       "      <td>Castor canadensis</td>\n",
       "      <td>Beaver</td>\n",
       "      <td>ok</td>\n",
       "    </tr>\n",
       "  </tbody>\n",
       "</table>\n",
       "</div>"
      ],
      "text/plain": [
       "     category    scientific_name             common_names conservation_status\n",
       "49     Mammal  Castor canadensis  American Beaver, Beaver                  ok\n",
       "3050   Mammal  Castor canadensis          American Beaver                  ok\n",
       "4475   Mammal  Castor canadensis                   Beaver                  ok"
      ]
     },
     "execution_count": 9,
     "metadata": {},
     "output_type": "execute_result"
    }
   ],
   "source": [
    "species[species['scientific_name'] == \"Castor canadensis\"]"
   ]
  },
  {
   "cell_type": "code",
   "execution_count": 10,
   "id": "4691feef",
   "metadata": {},
   "outputs": [
    {
     "name": "stdout",
     "output_type": "stream",
     "text": [
      "283\n"
     ]
    }
   ],
   "source": [
    "print(species['scientific_name'].duplicated().sum())"
   ]
  },
  {
   "cell_type": "markdown",
   "id": "3d2706f5",
   "metadata": {},
   "source": [
    "They are 283 duplicated values due to how the common_names have been registered. We wont be needing them."
   ]
  },
  {
   "cell_type": "code",
   "execution_count": 11,
   "id": "9650caff",
   "metadata": {},
   "outputs": [
    {
     "name": "stderr",
     "output_type": "stream",
     "text": [
      "C:\\Users\\Dan\\AppData\\Local\\Temp\\ipykernel_4392\\258575947.py:1: FutureWarning: In a future version of pandas all arguments of DataFrame.drop_duplicates except for the argument 'subset' will be keyword-only.\n",
      "  species.drop_duplicates([\"scientific_name\"],\"first\",True)\n"
     ]
    }
   ],
   "source": [
    "species.drop_duplicates([\"scientific_name\"],\"first\",True)"
   ]
  },
  {
   "cell_type": "markdown",
   "id": "d08d5f02",
   "metadata": {},
   "source": [
    "In the current states, the columns common_name contain several name per row. We need to process this data in order to make it usable."
   ]
  },
  {
   "cell_type": "code",
   "execution_count": 12,
   "id": "06ca3337",
   "metadata": {},
   "outputs": [
    {
     "name": "stdout",
     "output_type": "stream",
     "text": [
      "0                              Gapper's Red-Backed Vole\n",
      "1                                 American Bison, Bison\n",
      "2     Aurochs, Aurochs, Domestic Cattle (Feral), Dom...\n",
      "3     Domestic Sheep, Mouflon, Red Sheep, Sheep (Feral)\n",
      "4                                         Wapiti Or Elk\n",
      "5                                     White-Tailed Deer\n",
      "6                                   Feral Hog, Wild Pig\n",
      "7                                                Coyote\n",
      "8                                             Gray Wolf\n",
      "9                                              Red Wolf\n",
      "10                            Common Gray Fox, Gray Fox\n",
      "11            Black Fox, Cross Fox, Red Fox, Silver Fox\n",
      "12                                              Red Fox\n",
      "13                                        Mountain Lion\n",
      "14                                    Wild Cat, Wildcat\n",
      "15                                               Bobcat\n",
      "16                              Panther (Mountain Lion)\n",
      "17                                        Striped Skunk\n",
      "18                                Eastern Spotted Skunk\n",
      "19                                          River Otter\n",
      "20                                 Northern River Otter\n",
      "21                                               Fisher\n",
      "22                                     Mink (Or Weasel)\n",
      "23                                   Long-Tailed Weasel\n",
      "24                                         Least Weasel\n",
      "25                                                 Mink\n",
      "26                              Common Raccoon, Raccoon\n",
      "27                                           Black Bear\n",
      "28                           Rafinesque's Big-Eared Bat\n",
      "29                                        Big Brown Bat\n",
      "30                                    Silver-Haired Bat\n",
      "31                             Eastern Red Bat, Red Bat\n",
      "32                                            Hoary Bat\n",
      "33              Mississippi Myotis, Southeastern Myotis\n",
      "34                                          Gray Myotis\n",
      "35                                        Keen's Myotis\n",
      "36    Eastern Small-Footed Bat, Eastern Small-Footed...\n",
      "37                Little Brown Bat, Little Brown Myotis\n",
      "38             Northern Long-Eared Bat, Northern Myotis\n",
      "39                Indiana Bat, Indiana Or Social Myotis\n",
      "40                                          Evening Bat\n",
      "41                                  Eastern Pipistrelle\n",
      "42                  Virginia Opossum, Virginia Oppossum\n",
      "43                                        Snowshoe Hare\n",
      "44                                   Eastern Cottontail\n",
      "45                               Appalachian Cottontail\n",
      "46                               New England Cottontail\n",
      "47                                   Feral Horse, Horse\n",
      "48                                   Human, Humans, Man\n",
      "49                              American Beaver, Beaver\n",
      "Name: common_names, dtype: object\n"
     ]
    }
   ],
   "source": [
    "print(species[\"common_names\"].head(50))"
   ]
  },
  {
   "cell_type": "markdown",
   "id": "d0e3dec8",
   "metadata": {},
   "source": [
    "the common name of each specie can be designated by using the last word of each modality, excepted when it is between parenthesis. let's modify the data according to this logic"
   ]
  },
  {
   "cell_type": "code",
   "execution_count": 13,
   "id": "3f190414",
   "metadata": {},
   "outputs": [],
   "source": [
    "def text_modification(text):\n",
    "    smaller_text= text.split(\",\")[-1]\n",
    "    if smaller_text[-1] == \")\":\n",
    "        word = smaller_text.split()[0]\n",
    "    else:\n",
    "        word = smaller_text.split()[-1]\n",
    "    return word\n",
    "\n",
    "species[\"common_names\"] = species[\"common_names\"].apply(lambda x: text_modification(x))"
   ]
  },
  {
   "cell_type": "markdown",
   "id": "cc7c0256",
   "metadata": {},
   "source": [
    "To quickly identify Species that are at risk, we create a new columns is_at_risk"
   ]
  },
  {
   "cell_type": "code",
   "execution_count": 14,
   "id": "211f38d7",
   "metadata": {},
   "outputs": [],
   "source": [
    "species[\"is_at_risk\"] = species.conservation_status.apply(lambda x : \"no\" if x == \"ok\" else \"yes\")"
   ]
  },
  {
   "cell_type": "code",
   "execution_count": 15,
   "id": "4b54c659",
   "metadata": {},
   "outputs": [
    {
     "data": {
      "text/html": [
       "<div>\n",
       "<style scoped>\n",
       "    .dataframe tbody tr th:only-of-type {\n",
       "        vertical-align: middle;\n",
       "    }\n",
       "\n",
       "    .dataframe tbody tr th {\n",
       "        vertical-align: top;\n",
       "    }\n",
       "\n",
       "    .dataframe thead th {\n",
       "        text-align: right;\n",
       "    }\n",
       "</style>\n",
       "<table border=\"1\" class=\"dataframe\">\n",
       "  <thead>\n",
       "    <tr style=\"text-align: right;\">\n",
       "      <th></th>\n",
       "      <th>category</th>\n",
       "      <th>scientific_name</th>\n",
       "      <th>common_names</th>\n",
       "      <th>conservation_status</th>\n",
       "      <th>is_at_risk</th>\n",
       "    </tr>\n",
       "  </thead>\n",
       "  <tbody>\n",
       "    <tr>\n",
       "      <th>0</th>\n",
       "      <td>Mammal</td>\n",
       "      <td>Clethrionomys gapperi gapperi</td>\n",
       "      <td>Vole</td>\n",
       "      <td>ok</td>\n",
       "      <td>no</td>\n",
       "    </tr>\n",
       "    <tr>\n",
       "      <th>1</th>\n",
       "      <td>Mammal</td>\n",
       "      <td>Bos bison</td>\n",
       "      <td>Bison</td>\n",
       "      <td>ok</td>\n",
       "      <td>no</td>\n",
       "    </tr>\n",
       "    <tr>\n",
       "      <th>2</th>\n",
       "      <td>Mammal</td>\n",
       "      <td>Bos taurus</td>\n",
       "      <td>Cattle</td>\n",
       "      <td>ok</td>\n",
       "      <td>no</td>\n",
       "    </tr>\n",
       "    <tr>\n",
       "      <th>3</th>\n",
       "      <td>Mammal</td>\n",
       "      <td>Ovis aries</td>\n",
       "      <td>Sheep</td>\n",
       "      <td>ok</td>\n",
       "      <td>no</td>\n",
       "    </tr>\n",
       "    <tr>\n",
       "      <th>4</th>\n",
       "      <td>Mammal</td>\n",
       "      <td>Cervus elaphus</td>\n",
       "      <td>Elk</td>\n",
       "      <td>ok</td>\n",
       "      <td>no</td>\n",
       "    </tr>\n",
       "  </tbody>\n",
       "</table>\n",
       "</div>"
      ],
      "text/plain": [
       "  category                scientific_name common_names conservation_status  \\\n",
       "0   Mammal  Clethrionomys gapperi gapperi         Vole                  ok   \n",
       "1   Mammal                      Bos bison        Bison                  ok   \n",
       "2   Mammal                     Bos taurus       Cattle                  ok   \n",
       "3   Mammal                     Ovis aries        Sheep                  ok   \n",
       "4   Mammal                 Cervus elaphus          Elk                  ok   \n",
       "\n",
       "  is_at_risk  \n",
       "0         no  \n",
       "1         no  \n",
       "2         no  \n",
       "3         no  \n",
       "4         no  "
      ]
     },
     "execution_count": 15,
     "metadata": {},
     "output_type": "execute_result"
    }
   ],
   "source": [
    "species.head(5)"
   ]
  },
  {
   "cell_type": "markdown",
   "id": "65248e39",
   "metadata": {},
   "source": [
    "The `species` data is now ready for analysis"
   ]
  },
  {
   "cell_type": "markdown",
   "id": "9a9c9951",
   "metadata": {},
   "source": [
    "### Let's now focus on the file `observations`"
   ]
  },
  {
   "cell_type": "code",
   "execution_count": 16,
   "id": "e3edada6",
   "metadata": {},
   "outputs": [
    {
     "data": {
      "text/html": [
       "<div>\n",
       "<style scoped>\n",
       "    .dataframe tbody tr th:only-of-type {\n",
       "        vertical-align: middle;\n",
       "    }\n",
       "\n",
       "    .dataframe tbody tr th {\n",
       "        vertical-align: top;\n",
       "    }\n",
       "\n",
       "    .dataframe thead th {\n",
       "        text-align: right;\n",
       "    }\n",
       "</style>\n",
       "<table border=\"1\" class=\"dataframe\">\n",
       "  <thead>\n",
       "    <tr style=\"text-align: right;\">\n",
       "      <th></th>\n",
       "      <th>scientific_name</th>\n",
       "      <th>park_name</th>\n",
       "      <th>observations</th>\n",
       "    </tr>\n",
       "  </thead>\n",
       "  <tbody>\n",
       "    <tr>\n",
       "      <th>0</th>\n",
       "      <td>Vicia benghalensis</td>\n",
       "      <td>Great Smoky Mountains National Park</td>\n",
       "      <td>68</td>\n",
       "    </tr>\n",
       "    <tr>\n",
       "      <th>1</th>\n",
       "      <td>Neovison vison</td>\n",
       "      <td>Great Smoky Mountains National Park</td>\n",
       "      <td>77</td>\n",
       "    </tr>\n",
       "    <tr>\n",
       "      <th>2</th>\n",
       "      <td>Prunus subcordata</td>\n",
       "      <td>Yosemite National Park</td>\n",
       "      <td>138</td>\n",
       "    </tr>\n",
       "    <tr>\n",
       "      <th>3</th>\n",
       "      <td>Abutilon theophrasti</td>\n",
       "      <td>Bryce National Park</td>\n",
       "      <td>84</td>\n",
       "    </tr>\n",
       "    <tr>\n",
       "      <th>4</th>\n",
       "      <td>Githopsis specularioides</td>\n",
       "      <td>Great Smoky Mountains National Park</td>\n",
       "      <td>85</td>\n",
       "    </tr>\n",
       "  </tbody>\n",
       "</table>\n",
       "</div>"
      ],
      "text/plain": [
       "            scientific_name                            park_name  observations\n",
       "0        Vicia benghalensis  Great Smoky Mountains National Park            68\n",
       "1            Neovison vison  Great Smoky Mountains National Park            77\n",
       "2         Prunus subcordata               Yosemite National Park           138\n",
       "3      Abutilon theophrasti                  Bryce National Park            84\n",
       "4  Githopsis specularioides  Great Smoky Mountains National Park            85"
      ]
     },
     "metadata": {},
     "output_type": "display_data"
    },
    {
     "name": "stdout",
     "output_type": "stream",
     "text": [
      "\n",
      "Shape of the dataset:\n",
      "(23296, 3)\n"
     ]
    }
   ],
   "source": [
    "observations = pd.read_csv(\"observations.csv\")\n",
    "display(observations.head(5))\n",
    "\n",
    "print(\"\\nShape of the dataset:\" )\n",
    "print(observations.shape)"
   ]
  },
  {
   "cell_type": "markdown",
   "id": "cd556c51",
   "metadata": {},
   "source": [
    "This file contains 3 columns:\n",
    "- `scientific_name` which will be used as key to join the specie file\n",
    "- `park_name`\n",
    "- `observations` which represent the amount of observation during the last 7 days prior to the recording\n",
    "\n",
    "and 23296 lines"
   ]
  },
  {
   "cell_type": "code",
   "execution_count": 17,
   "id": "6a377cf8",
   "metadata": {},
   "outputs": [
    {
     "name": "stdout",
     "output_type": "stream",
     "text": [
      "Number of unique values for each columns \n",
      "\n",
      "scientific_name : 5541\n",
      "park_name : 4\n"
     ]
    }
   ],
   "source": [
    "print(\"Number of unique values for each columns \\n\")\n",
    "for name in observations.columns[:-1]:\n",
    "    print(name,\":\",observations[name].nunique())"
   ]
  },
  {
   "cell_type": "markdown",
   "id": "4408bc34",
   "metadata": {},
   "source": [
    "As expected, there is the same amount of value for scientfic_name than on the specied file, which will allow us to easily perfom a merge between the two datasets\n",
    "\n",
    "Only 4 national park have been included in this dataset:"
   ]
  },
  {
   "cell_type": "code",
   "execution_count": 18,
   "id": "4e785a55",
   "metadata": {},
   "outputs": [
    {
     "name": "stdout",
     "output_type": "stream",
     "text": [
      "['Great Smoky Mountains National Park' 'Yosemite National Park'\n",
      " 'Bryce National Park' 'Yellowstone National Park']\n"
     ]
    }
   ],
   "source": [
    "print(observations[\"park_name\"].unique())"
   ]
  },
  {
   "cell_type": "markdown",
   "id": "6934856e",
   "metadata": {},
   "source": [
    "For a better readability, we shorten the parks names:"
   ]
  },
  {
   "cell_type": "code",
   "execution_count": 19,
   "id": "0b83b299",
   "metadata": {},
   "outputs": [],
   "source": [
    "observations[\"park_name\"] = observations[\"park_name\"].apply(lambda x : x.replace(\" National Park\", \"\"))"
   ]
  },
  {
   "cell_type": "markdown",
   "id": "31420a59",
   "metadata": {},
   "source": [
    "We now look for NAN value or duplicate rows in this datafile:"
   ]
  },
  {
   "cell_type": "code",
   "execution_count": 20,
   "id": "393ddf8d",
   "metadata": {},
   "outputs": [
    {
     "name": "stdout",
     "output_type": "stream",
     "text": [
      "Number of Nan:\n",
      "scientific_name    0\n",
      "park_name          0\n",
      "observations       0\n",
      "dtype: int64 \n",
      "\n",
      "Number of duplicate:\n",
      "15\n"
     ]
    }
   ],
   "source": [
    "print(\"Number of Nan:\")\n",
    "print(observations.isna().sum(),\"\\n\")\n",
    "print(\"Number of duplicate:\")\n",
    "print(observations.duplicated().sum())"
   ]
  },
  {
   "cell_type": "markdown",
   "id": "33fb7226",
   "metadata": {},
   "source": [
    "We delete the duplicated rows"
   ]
  },
  {
   "cell_type": "code",
   "execution_count": 21,
   "id": "44718b97",
   "metadata": {},
   "outputs": [],
   "source": [
    "observations = observations.drop_duplicates(keep = \"first\")"
   ]
  },
  {
   "cell_type": "markdown",
   "id": "391857e9",
   "metadata": {},
   "source": [
    "Let's now have a quick look at the distribution of the observations"
   ]
  },
  {
   "cell_type": "code",
   "execution_count": 22,
   "id": "f8907777",
   "metadata": {},
   "outputs": [
    {
     "data": {
      "text/html": [
       "<div>\n",
       "<style scoped>\n",
       "    .dataframe tbody tr th:only-of-type {\n",
       "        vertical-align: middle;\n",
       "    }\n",
       "\n",
       "    .dataframe tbody tr th {\n",
       "        vertical-align: top;\n",
       "    }\n",
       "\n",
       "    .dataframe thead th {\n",
       "        text-align: right;\n",
       "    }\n",
       "</style>\n",
       "<table border=\"1\" class=\"dataframe\">\n",
       "  <thead>\n",
       "    <tr style=\"text-align: right;\">\n",
       "      <th></th>\n",
       "      <th>observations</th>\n",
       "    </tr>\n",
       "  </thead>\n",
       "  <tbody>\n",
       "    <tr>\n",
       "      <th>count</th>\n",
       "      <td>23281.000000</td>\n",
       "    </tr>\n",
       "    <tr>\n",
       "      <th>mean</th>\n",
       "      <td>142.280357</td>\n",
       "    </tr>\n",
       "    <tr>\n",
       "      <th>std</th>\n",
       "      <td>69.885439</td>\n",
       "    </tr>\n",
       "    <tr>\n",
       "      <th>min</th>\n",
       "      <td>9.000000</td>\n",
       "    </tr>\n",
       "    <tr>\n",
       "      <th>25%</th>\n",
       "      <td>86.000000</td>\n",
       "    </tr>\n",
       "    <tr>\n",
       "      <th>50%</th>\n",
       "      <td>124.000000</td>\n",
       "    </tr>\n",
       "    <tr>\n",
       "      <th>75%</th>\n",
       "      <td>195.000000</td>\n",
       "    </tr>\n",
       "    <tr>\n",
       "      <th>max</th>\n",
       "      <td>321.000000</td>\n",
       "    </tr>\n",
       "  </tbody>\n",
       "</table>\n",
       "</div>"
      ],
      "text/plain": [
       "       observations\n",
       "count  23281.000000\n",
       "mean     142.280357\n",
       "std       69.885439\n",
       "min        9.000000\n",
       "25%       86.000000\n",
       "50%      124.000000\n",
       "75%      195.000000\n",
       "max      321.000000"
      ]
     },
     "execution_count": 22,
     "metadata": {},
     "output_type": "execute_result"
    }
   ],
   "source": [
    "observations[\"observations\"].describe().to_frame()"
   ]
  },
  {
   "cell_type": "markdown",
   "id": "ff1e6841",
   "metadata": {},
   "source": [
    "According to this stat description, there is no aberrant value regarding the amount of observations recorded"
   ]
  },
  {
   "cell_type": "markdown",
   "id": "e079ff20",
   "metadata": {},
   "source": [
    "The `observation` data is now ready for analysis"
   ]
  },
  {
   "cell_type": "markdown",
   "id": "1eaa85ec",
   "metadata": {},
   "source": [
    "### Data merging"
   ]
  },
  {
   "cell_type": "markdown",
   "id": "6c616d2c",
   "metadata": {},
   "source": [
    "To process with the data analysis part, we now merge the two datasets:\n",
    "    "
   ]
  },
  {
   "cell_type": "code",
   "execution_count": 23,
   "id": "2e59d3b8",
   "metadata": {},
   "outputs": [],
   "source": [
    "df = pd.merge(observations, species, how = \"left\")"
   ]
  },
  {
   "cell_type": "code",
   "execution_count": 24,
   "id": "64bb96b9",
   "metadata": {},
   "outputs": [
    {
     "name": "stdout",
     "output_type": "stream",
     "text": [
      "Number of values\n",
      "scientific_name        23281\n",
      "park_name              23281\n",
      "observations           23281\n",
      "category               23281\n",
      "common_names           23281\n",
      "conservation_status    23281\n",
      "is_at_risk             23281\n",
      "dtype: int64 \n",
      "\n",
      "Number of Nan\n",
      "scientific_name        0\n",
      "park_name              0\n",
      "observations           0\n",
      "category               0\n",
      "common_names           0\n",
      "conservation_status    0\n",
      "is_at_risk             0\n",
      "dtype: int64 \n",
      "\n",
      "Duplicated rows\n",
      "0 \n",
      "\n"
     ]
    }
   ],
   "source": [
    "print(\"Number of values\")\n",
    "print(df.count(),\"\\n\")\n",
    "print(\"Number of Nan\")\n",
    "print(df.isna().sum(),\"\\n\")\n",
    "print(\"Duplicated rows\")\n",
    "print(df.duplicated().sum(),\"\\n\")"
   ]
  },
  {
   "cell_type": "markdown",
   "id": "348e0886",
   "metadata": {},
   "source": [
    "To facilitate data manipulation, we create a new columns which separate which species are OK and which have a specific status, and we create a dataset dedicated to Concerning Species"
   ]
  },
  {
   "cell_type": "code",
   "execution_count": 25,
   "id": "ce04aa1e",
   "metadata": {},
   "outputs": [],
   "source": [
    "df2=df[df[\"is_at_risk\"]==\"yes\"]"
   ]
  },
  {
   "cell_type": "markdown",
   "id": "06718f8b",
   "metadata": {},
   "source": [
    "## 2. Analysis\n",
    "\n",
    "### Species"
   ]
  },
  {
   "cell_type": "markdown",
   "id": "cbe95ace",
   "metadata": {},
   "source": [
    "We start this analysis by looking at the proportion of species at risk "
   ]
  },
  {
   "cell_type": "code",
   "execution_count": 26,
   "id": "8cdf7ad9",
   "metadata": {},
   "outputs": [
    {
     "data": {
      "image/png": "[encoded data removed]",
      "text/plain": [
       "<Figure size 640x480 with 1 Axes>"
      ]
     },
     "metadata": {},
     "output_type": "display_data"
    }
   ],
   "source": [
    "plt.pie(species[\"is_at_risk\"].value_counts(), labels = [\"Species OK\", \"Species at risk\"] ,autopct = \"%0.2f%%\")\n",
    "plt.title(\"Percentage of species at risk\")\n",
    "plt.show()"
   ]
  },
  {
   "cell_type": "markdown",
   "id": "08e4f090",
   "metadata": {},
   "source": [
    "Fortunately the huge majority of species present in the parks are not at risk. Let's focus on the 3,26% at risk and determine what categories of specie are at risk"
   ]
  },
  {
   "cell_type": "code",
   "execution_count": 27,
   "id": "0637db1b",
   "metadata": {},
   "outputs": [
    {
     "data": {
      "text/html": [
       "<div>\n",
       "<style scoped>\n",
       "    .dataframe tbody tr th:only-of-type {\n",
       "        vertical-align: middle;\n",
       "    }\n",
       "\n",
       "    .dataframe tbody tr th {\n",
       "        vertical-align: top;\n",
       "    }\n",
       "\n",
       "    .dataframe thead th {\n",
       "        text-align: right;\n",
       "    }\n",
       "</style>\n",
       "<table border=\"1\" class=\"dataframe\">\n",
       "  <thead>\n",
       "    <tr style=\"text-align: right;\">\n",
       "      <th>is_at_risk</th>\n",
       "      <th>no</th>\n",
       "      <th>yes</th>\n",
       "      <th>% Concerning</th>\n",
       "    </tr>\n",
       "    <tr>\n",
       "      <th>category</th>\n",
       "      <th></th>\n",
       "      <th></th>\n",
       "      <th></th>\n",
       "    </tr>\n",
       "  </thead>\n",
       "  <tbody>\n",
       "    <tr>\n",
       "      <th>Amphibian</th>\n",
       "      <td>72</td>\n",
       "      <td>7</td>\n",
       "      <td>0.09%</td>\n",
       "    </tr>\n",
       "    <tr>\n",
       "      <th>Bird</th>\n",
       "      <td>413</td>\n",
       "      <td>75</td>\n",
       "      <td>0.15%</td>\n",
       "    </tr>\n",
       "    <tr>\n",
       "      <th>Fish</th>\n",
       "      <td>115</td>\n",
       "      <td>10</td>\n",
       "      <td>0.08%</td>\n",
       "    </tr>\n",
       "    <tr>\n",
       "      <th>Mammal</th>\n",
       "      <td>146</td>\n",
       "      <td>30</td>\n",
       "      <td>0.17%</td>\n",
       "    </tr>\n",
       "    <tr>\n",
       "      <th>Nonvascular Plant</th>\n",
       "      <td>328</td>\n",
       "      <td>5</td>\n",
       "      <td>0.02%</td>\n",
       "    </tr>\n",
       "    <tr>\n",
       "      <th>Reptile</th>\n",
       "      <td>73</td>\n",
       "      <td>5</td>\n",
       "      <td>0.06%</td>\n",
       "    </tr>\n",
       "    <tr>\n",
       "      <th>Vascular Plant</th>\n",
       "      <td>4216</td>\n",
       "      <td>46</td>\n",
       "      <td>0.01%</td>\n",
       "    </tr>\n",
       "  </tbody>\n",
       "</table>\n",
       "</div>"
      ],
      "text/plain": [
       "is_at_risk           no  yes % Concerning\n",
       "category                                 \n",
       "Amphibian            72    7        0.09%\n",
       "Bird                413   75        0.15%\n",
       "Fish                115   10        0.08%\n",
       "Mammal              146   30        0.17%\n",
       "Nonvascular Plant   328    5        0.02%\n",
       "Reptile              73    5        0.06%\n",
       "Vascular Plant     4216   46        0.01%"
      ]
     },
     "execution_count": 27,
     "metadata": {},
     "output_type": "execute_result"
    }
   ],
   "source": [
    "my_crosstab = pd.crosstab(species[\"category\"], species[\"is_at_risk\"])\n",
    "my_crosstab[\"% Concerning\"] = pd.crosstab(species[\"category\"], species[\"is_at_risk\"]).apply(lambda r: r[1]/r.sum(), axis=1).apply('{:.2f}%'.format)\n",
    "my_crosstab"
   ]
  },
  {
   "cell_type": "markdown",
   "id": "c420809c",
   "metadata": {},
   "source": [
    "Proportionnaly speaking, Bird and Mammal seem to be more likely to be at risk than other species. Is the differences observed statistically significant? "
   ]
  },
  {
   "cell_type": "code",
   "execution_count": 28,
   "id": "c2b80e27",
   "metadata": {},
   "outputs": [
    {
     "name": "stdout",
     "output_type": "stream",
     "text": [
      "0.6875948096661336\n"
     ]
    }
   ],
   "source": [
    "from scipy.stats import chi2_contingency\n",
    "\n",
    "chi2, pval, dof, expected = chi2_contingency([[413,75],[146,30]])\n",
    "print(pval)"
   ]
  },
  {
   "cell_type": "markdown",
   "id": "08cc7b34",
   "metadata": {},
   "source": [
    "By comparing the difference between bird and mammal we obtain : pval = 0.68 > 0.05. We do not reject the null hypothesis. That means there is no difference in term of likeliness to be a risk between these 2 species"
   ]
  },
  {
   "cell_type": "code",
   "execution_count": 29,
   "id": "261e7467",
   "metadata": {},
   "outputs": [
    {
     "name": "stdout",
     "output_type": "stream",
     "text": [
      "0.047482425302318096\n"
     ]
    }
   ],
   "source": [
    "chi2, pval, dof, expected = chi2_contingency([[413,75],[115,10]])\n",
    "print(pval)"
   ]
  },
  {
   "cell_type": "markdown",
   "id": "9463321b",
   "metadata": {},
   "source": [
    "By comparing the difference between bird and mammal we obtain : pval = 0.04 < 0.05. We reject the null hypothesis. That means there is a stastical difference in term of likeliness to be a risk between these 2 species. In that case, Birds are most likely to be at risk than fishes"
   ]
  },
  {
   "cell_type": "code",
   "execution_count": null,
   "id": "1e83d3ea",
   "metadata": {},
   "outputs": [],
   "source": []
  },
  {
   "cell_type": "markdown",
   "id": "070a3ac2",
   "metadata": {},
   "source": [
    "As we can see, the vast majority of species that are at risk are at the step \"Species of concern\". Without historical information, We canno't assert any insight regarding the trend of the other categories. \n",
    "\n",
    "We can however have more information regarding the category of specie that are in each conservation status"
   ]
  },
  {
   "cell_type": "code",
   "execution_count": 30,
   "id": "b7640107",
   "metadata": {},
   "outputs": [
    {
     "data": {
      "text/html": [
       "<div>\n",
       "<style scoped>\n",
       "    .dataframe tbody tr th:only-of-type {\n",
       "        vertical-align: middle;\n",
       "    }\n",
       "\n",
       "    .dataframe tbody tr th {\n",
       "        vertical-align: top;\n",
       "    }\n",
       "\n",
       "    .dataframe thead th {\n",
       "        text-align: right;\n",
       "    }\n",
       "</style>\n",
       "<table border=\"1\" class=\"dataframe\">\n",
       "  <thead>\n",
       "    <tr style=\"text-align: right;\">\n",
       "      <th>conservation_status</th>\n",
       "      <th>Endangered</th>\n",
       "      <th>In Recovery</th>\n",
       "      <th>Species of Concern</th>\n",
       "      <th>Threatened</th>\n",
       "      <th>ok</th>\n",
       "    </tr>\n",
       "    <tr>\n",
       "      <th>category</th>\n",
       "      <th></th>\n",
       "      <th></th>\n",
       "      <th></th>\n",
       "      <th></th>\n",
       "      <th></th>\n",
       "    </tr>\n",
       "  </thead>\n",
       "  <tbody>\n",
       "    <tr>\n",
       "      <th>Amphibian</th>\n",
       "      <td>1</td>\n",
       "      <td>0</td>\n",
       "      <td>4</td>\n",
       "      <td>2</td>\n",
       "      <td>72</td>\n",
       "    </tr>\n",
       "    <tr>\n",
       "      <th>Bird</th>\n",
       "      <td>4</td>\n",
       "      <td>3</td>\n",
       "      <td>68</td>\n",
       "      <td>0</td>\n",
       "      <td>413</td>\n",
       "    </tr>\n",
       "    <tr>\n",
       "      <th>Fish</th>\n",
       "      <td>3</td>\n",
       "      <td>0</td>\n",
       "      <td>4</td>\n",
       "      <td>3</td>\n",
       "      <td>115</td>\n",
       "    </tr>\n",
       "    <tr>\n",
       "      <th>Mammal</th>\n",
       "      <td>6</td>\n",
       "      <td>0</td>\n",
       "      <td>22</td>\n",
       "      <td>2</td>\n",
       "      <td>146</td>\n",
       "    </tr>\n",
       "    <tr>\n",
       "      <th>Nonvascular Plant</th>\n",
       "      <td>0</td>\n",
       "      <td>0</td>\n",
       "      <td>5</td>\n",
       "      <td>0</td>\n",
       "      <td>328</td>\n",
       "    </tr>\n",
       "    <tr>\n",
       "      <th>Reptile</th>\n",
       "      <td>0</td>\n",
       "      <td>0</td>\n",
       "      <td>5</td>\n",
       "      <td>0</td>\n",
       "      <td>73</td>\n",
       "    </tr>\n",
       "    <tr>\n",
       "      <th>Vascular Plant</th>\n",
       "      <td>1</td>\n",
       "      <td>0</td>\n",
       "      <td>43</td>\n",
       "      <td>2</td>\n",
       "      <td>4216</td>\n",
       "    </tr>\n",
       "  </tbody>\n",
       "</table>\n",
       "</div>"
      ],
      "text/plain": [
       "conservation_status  Endangered  In Recovery  Species of Concern  Threatened  \\\n",
       "category                                                                       \n",
       "Amphibian                     1            0                   4           2   \n",
       "Bird                          4            3                  68           0   \n",
       "Fish                          3            0                   4           3   \n",
       "Mammal                        6            0                  22           2   \n",
       "Nonvascular Plant             0            0                   5           0   \n",
       "Reptile                       0            0                   5           0   \n",
       "Vascular Plant                1            0                  43           2   \n",
       "\n",
       "conservation_status    ok  \n",
       "category                   \n",
       "Amphibian              72  \n",
       "Bird                  413  \n",
       "Fish                  115  \n",
       "Mammal                146  \n",
       "Nonvascular Plant     328  \n",
       "Reptile                73  \n",
       "Vascular Plant       4216  "
      ]
     },
     "metadata": {},
     "output_type": "display_data"
    },
    {
     "data": {
      "image/png": "[encoded data removed]",
      "text/plain": [
       "<Figure size 1500x800 with 1 Axes>"
      ]
     },
     "metadata": {},
     "output_type": "display_data"
    }
   ],
   "source": [
    "my_crosstab3 = pd.crosstab(species[\"category\"], species[\"conservation_status\"])\n",
    "display(my_crosstab3)\n",
    "plt.figure(figsize = (15,8))\n",
    "sns.countplot(x = \"conservation_status\", hue = \"category\", data = species[species[\"is_at_risk\"] == \"yes\"])\n",
    "plt.show()"
   ]
  },
  {
   "cell_type": "code",
   "execution_count": 31,
   "id": "5932e73b",
   "metadata": {},
   "outputs": [
    {
     "name": "stdout",
     "output_type": "stream",
     "text": [
      "Statistical comparison\n",
      "\n",
      "Bird vs Fish : Specie of Concern to Endangered\n",
      "pval = 0.00882285438393537\n",
      "\n",
      "Bird vs Mammal : Specie of Concern to Endangered\n",
      "pval = 0.04502088100253867\n"
     ]
    }
   ],
   "source": [
    "print(\"Statistical comparison\")\n",
    "print(\"\\nBird vs Fish : Specie of Concern to Endangered\")\n",
    "chi2, pval, dof, expected = chi2_contingency([[68,4],[4,3]])\n",
    "print(\"pval =\",pval)\n",
    "print(\"\\nBird vs Mammal : Specie of Concern to Endangered\")\n",
    "chi2, pval, dof, expected = chi2_contingency([[68,4],[22,6]])\n",
    "print(\"pval =\",pval)"
   ]
  },
  {
   "cell_type": "markdown",
   "id": "ab063a64",
   "metadata": {},
   "source": [
    "Even thought Birds represent an important part of the species at risk, there are mostly considered as species of concerns. However for species like Mammals and Fishes, once they are at risk, they are more likely to be Endangered than bird.\n",
    "\n",
    "Similar observations could be performed for the transition between species Endangered and Species Threatened"
   ]
  },
  {
   "cell_type": "markdown",
   "id": "d5f2e243",
   "metadata": {},
   "source": [
    "- Vascular Plant & Bird represent the majority of Specie of concern, but are far less present in the more severe status. if we look at proportion only, Species belonging to these 2 categories of species are less likely to have their conservation status worsening. Moreover, Bird seems to be the only categorie of specie that are In Recovery.\n",
    "- Mammals, Amphibian & Fish are less numerous as Species of concern, however they are more likely to be Endangered and Threatened than the categoy above.\n",
    "- Reptile and Nonvascular Plant do not have species Endangered nor Threatened\n",
    "\n",
    "Below is a list of all the Endangered and Threatened species recorded in the dataframe"
   ]
  },
  {
   "cell_type": "code",
   "execution_count": 42,
   "id": "d64ec5b5",
   "metadata": {},
   "outputs": [
    {
     "name": "stdout",
     "output_type": "stream",
     "text": [
      "List of Endangered Species :\n"
     ]
    },
    {
     "data": {
      "text/html": [
       "<div>\n",
       "<style scoped>\n",
       "    .dataframe tbody tr th:only-of-type {\n",
       "        vertical-align: middle;\n",
       "    }\n",
       "\n",
       "    .dataframe tbody tr th {\n",
       "        vertical-align: top;\n",
       "    }\n",
       "\n",
       "    .dataframe thead th {\n",
       "        text-align: right;\n",
       "    }\n",
       "</style>\n",
       "<table border=\"1\" class=\"dataframe\">\n",
       "  <thead>\n",
       "    <tr style=\"text-align: right;\">\n",
       "      <th></th>\n",
       "      <th>scientific_name</th>\n",
       "      <th>common_names</th>\n",
       "    </tr>\n",
       "  </thead>\n",
       "  <tbody>\n",
       "    <tr>\n",
       "      <th>8</th>\n",
       "      <td>Canis lupus</td>\n",
       "      <td>Wolf</td>\n",
       "    </tr>\n",
       "    <tr>\n",
       "      <th>9</th>\n",
       "      <td>Canis rufus</td>\n",
       "      <td>Wolf</td>\n",
       "    </tr>\n",
       "    <tr>\n",
       "      <th>34</th>\n",
       "      <td>Myotis grisescens</td>\n",
       "      <td>Myotis</td>\n",
       "    </tr>\n",
       "    <tr>\n",
       "      <th>39</th>\n",
       "      <td>Myotis sodalis</td>\n",
       "      <td>Myotis</td>\n",
       "    </tr>\n",
       "    <tr>\n",
       "      <th>72</th>\n",
       "      <td>Glaucomys sabrinus coloratus</td>\n",
       "      <td>Squirrel</td>\n",
       "    </tr>\n",
       "    <tr>\n",
       "      <th>173</th>\n",
       "      <td>Grus americana</td>\n",
       "      <td>Crane</td>\n",
       "    </tr>\n",
       "    <tr>\n",
       "      <th>276</th>\n",
       "      <td>Vermivora bachmanii</td>\n",
       "      <td>Warbler</td>\n",
       "    </tr>\n",
       "    <tr>\n",
       "      <th>343</th>\n",
       "      <td>Picoides borealis</td>\n",
       "      <td>Woodpecker</td>\n",
       "    </tr>\n",
       "    <tr>\n",
       "      <th>540</th>\n",
       "      <td>Etheostoma percnurum</td>\n",
       "      <td>Darter</td>\n",
       "    </tr>\n",
       "    <tr>\n",
       "      <th>570</th>\n",
       "      <td>Noturus baileyi</td>\n",
       "      <td>Madtom</td>\n",
       "    </tr>\n",
       "    <tr>\n",
       "      <th>2497</th>\n",
       "      <td>Geum radiatum</td>\n",
       "      <td>Avens</td>\n",
       "    </tr>\n",
       "    <tr>\n",
       "      <th>3275</th>\n",
       "      <td>Chasmistes liorus</td>\n",
       "      <td>Sucker</td>\n",
       "    </tr>\n",
       "    <tr>\n",
       "      <th>4446</th>\n",
       "      <td>Ovis canadensis sierrae</td>\n",
       "      <td>Sheep</td>\n",
       "    </tr>\n",
       "    <tr>\n",
       "      <th>4505</th>\n",
       "      <td>Gymnogyps californianus</td>\n",
       "      <td>Condor</td>\n",
       "    </tr>\n",
       "    <tr>\n",
       "      <th>4601</th>\n",
       "      <td>Rana sierrae</td>\n",
       "      <td>Frog</td>\n",
       "    </tr>\n",
       "  </tbody>\n",
       "</table>\n",
       "</div>"
      ],
      "text/plain": [
       "                   scientific_name common_names\n",
       "8                      Canis lupus         Wolf\n",
       "9                      Canis rufus         Wolf\n",
       "34               Myotis grisescens       Myotis\n",
       "39                  Myotis sodalis       Myotis\n",
       "72    Glaucomys sabrinus coloratus     Squirrel\n",
       "173                 Grus americana        Crane\n",
       "276            Vermivora bachmanii      Warbler\n",
       "343              Picoides borealis   Woodpecker\n",
       "540           Etheostoma percnurum       Darter\n",
       "570                Noturus baileyi       Madtom\n",
       "2497                 Geum radiatum        Avens\n",
       "3275             Chasmistes liorus       Sucker\n",
       "4446       Ovis canadensis sierrae        Sheep\n",
       "4505       Gymnogyps californianus       Condor\n",
       "4601                  Rana sierrae         Frog"
      ]
     },
     "metadata": {},
     "output_type": "display_data"
    },
    {
     "name": "stdout",
     "output_type": "stream",
     "text": [
      "\n",
      "List of Threatened Species :\n"
     ]
    },
    {
     "data": {
      "text/html": [
       "<div>\n",
       "<style scoped>\n",
       "    .dataframe tbody tr th:only-of-type {\n",
       "        vertical-align: middle;\n",
       "    }\n",
       "\n",
       "    .dataframe tbody tr th {\n",
       "        vertical-align: top;\n",
       "    }\n",
       "\n",
       "    .dataframe thead th {\n",
       "        text-align: right;\n",
       "    }\n",
       "</style>\n",
       "<table border=\"1\" class=\"dataframe\">\n",
       "  <thead>\n",
       "    <tr style=\"text-align: right;\">\n",
       "      <th></th>\n",
       "      <th>scientific_name</th>\n",
       "      <th>common_names</th>\n",
       "    </tr>\n",
       "  </thead>\n",
       "  <tbody>\n",
       "    <tr>\n",
       "      <th>38</th>\n",
       "      <td>Myotis septentrionalis</td>\n",
       "      <td>Myotis</td>\n",
       "    </tr>\n",
       "    <tr>\n",
       "      <th>490</th>\n",
       "      <td>Erimonax monachus</td>\n",
       "      <td>Chub</td>\n",
       "    </tr>\n",
       "    <tr>\n",
       "      <th>571</th>\n",
       "      <td>Noturus flavipinnis</td>\n",
       "      <td>Madtom</td>\n",
       "    </tr>\n",
       "    <tr>\n",
       "      <th>704</th>\n",
       "      <td>Isotria medeoloides</td>\n",
       "      <td>Pogonia</td>\n",
       "    </tr>\n",
       "    <tr>\n",
       "      <th>2562</th>\n",
       "      <td>Spiraea virginiana</td>\n",
       "      <td>Spiraea</td>\n",
       "    </tr>\n",
       "    <tr>\n",
       "      <th>3032</th>\n",
       "      <td>Ursus arctos horribilis</td>\n",
       "      <td>Bear</td>\n",
       "    </tr>\n",
       "    <tr>\n",
       "      <th>4597</th>\n",
       "      <td>Anaxyrus canorus</td>\n",
       "      <td>Toad</td>\n",
       "    </tr>\n",
       "    <tr>\n",
       "      <th>4600</th>\n",
       "      <td>Rana draytonii</td>\n",
       "      <td>Frog</td>\n",
       "    </tr>\n",
       "    <tr>\n",
       "      <th>4612</th>\n",
       "      <td>Oncorhynchus clarkii henshawi</td>\n",
       "      <td>Trout</td>\n",
       "    </tr>\n",
       "  </tbody>\n",
       "</table>\n",
       "</div>"
      ],
      "text/plain": [
       "                    scientific_name common_names\n",
       "38           Myotis septentrionalis       Myotis\n",
       "490               Erimonax monachus         Chub\n",
       "571             Noturus flavipinnis       Madtom\n",
       "704             Isotria medeoloides      Pogonia\n",
       "2562             Spiraea virginiana      Spiraea\n",
       "3032        Ursus arctos horribilis         Bear\n",
       "4597               Anaxyrus canorus         Toad\n",
       "4600                 Rana draytonii         Frog\n",
       "4612  Oncorhynchus clarkii henshawi        Trout"
      ]
     },
     "metadata": {},
     "output_type": "display_data"
    }
   ],
   "source": [
    "print(\"List of Endangered Species :\")\n",
    "display(species[species[\"conservation_status\"] == \"Endangered\"][['scientific_name',\"common_names\"]])\n",
    "print(\"\\nList of Threatened Species :\")\n",
    "display(species[species[\"conservation_status\"] == \"Threatened\"][['scientific_name',\"common_names\"]])"
   ]
  },
  {
   "cell_type": "markdown",
   "id": "c97bf232",
   "metadata": {},
   "source": [
    "## Parks\n",
    "\n",
    "We continue this analysis by examining the difference between parks"
   ]
  },
  {
   "cell_type": "code",
   "execution_count": 51,
   "id": "9fa3fdf7",
   "metadata": {},
   "outputs": [
    {
     "data": {
      "text/plain": [
       "park_name\n",
       "Bryce                    5823\n",
       "Great Smoky Mountains    5818\n",
       "Yellowstone              5819\n",
       "Yosemite                 5821\n",
       "Name: scientific_name, dtype: int64"
      ]
     },
     "execution_count": 51,
     "metadata": {},
     "output_type": "execute_result"
    }
   ],
   "source": [
    "observations.groupby(\"park_name\").scientific_name.count()"
   ]
  },
  {
   "cell_type": "markdown",
   "id": "cb4625e6",
   "metadata": {},
   "source": [
    "Almost all the recorded species are present in all the parks"
   ]
  },
  {
   "cell_type": "code",
   "execution_count": 48,
   "id": "edff225a",
   "metadata": {},
   "outputs": [
    {
     "data": {
      "text/plain": [
       "<AxesSubplot:xlabel='park_name', ylabel='observations'>"
      ]
     },
     "execution_count": 48,
     "metadata": {},
     "output_type": "execute_result"
    },
    {
     "data": {
      "image/png": "[encoded data removed]",
      "text/plain": [
       "<Figure size 640x480 with 1 Axes>"
      ]
     },
     "metadata": {},
     "output_type": "display_data"
    }
   ],
   "source": [
    "sns.barplot(x = \"park_name\", y =\"observations\", data = observations)"
   ]
  },
  {
   "cell_type": "markdown",
   "id": "b91b9ad5",
   "metadata": {},
   "source": [
    "However the amount of average observation is quitte different between parks. This means that each park host a distinctive amount of specimen by specie "
   ]
  }
 ],
 "metadata": {
  "kernelspec": {
   "display_name": "Python 3 (ipykernel)",
   "language": "python",
   "name": "python3"
  },
  "language_info": {
   "codemirror_mode": {
    "name": "ipython",
    "version": 3
   },
   "file_extension": ".py",
   "mimetype": "text/x-python",
   "name": "python",
   "nbconvert_exporter": "python",
   "pygments_lexer": "ipython3",
   "version": "3.9.13"
  }
 },
 "nbformat": 4,
 "nbformat_minor": 5
}
